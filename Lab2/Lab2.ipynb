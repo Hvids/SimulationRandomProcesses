{
 "cells": [
  {
   "cell_type": "code",
   "execution_count": 1,
   "metadata": {},
   "outputs": [],
   "source": [
    "import math;\n",
    "import cmath;\n",
    "import sys;\n",
    "import numpy as np;\n",
    "import time;\n",
    "from copy import deepcopy;\n",
    "import matplotlib.pyplot as plt\n"
   ]
  },
  {
   "cell_type": "code",
   "execution_count": 2,
   "metadata": {},
   "outputs": [],
   "source": [
    "def make_R01(kmax, shift = 0):\n",
    "    n_0 = np.mod(time.time() + shift,4096)\n",
    "    m1 = 4096\n",
    "    m2 = 150889\n",
    "    m3 = 714025\n",
    "    nk = np.zeros((kmax))\n",
    "    xk = np.zeros((kmax))\n",
    "    nk[0] = n_0\n",
    "    xk[0] = nk[0]/m3\n",
    "    for i in range(1,kmax):\n",
    "        nk[i] = np.mod(m1*nk[i-1] + m2, m3)\n",
    "        xk[i] = nk[i]/m3\n",
    "    return xk\n",
    "\n",
    "def make_R(a, b, kmax, shift = 0):\n",
    "    return (b-a)*make_R01(kmax, shift) + a\n",
    "\n",
    "def make_N01(kmax):\n",
    "    a1 = make_R(0,1,kmax)\n",
    "    a2 = make_R(0,714025,kmax, 100)\n",
    "    for i in range(0, kmax):\n",
    "        a2[i] = (a2[i] + 1)/(714026)\n",
    "    n1 = np.zeros((kmax))\n",
    "    n2 = np.zeros((kmax))\n",
    "    for i in range(0,kmax):\n",
    "        n1 = np.sin(2*np.pi*a1)*np.sqrt(-2*np.log(a2))\n",
    "        n2 = np.cos(2*np.pi*a1)*np.sqrt(-2*np.log(a2))\n",
    "    return n1, n2\n",
    "\n",
    "def make_N(m, d, kmax):\n",
    "    return make_N01(kmax)[0]*d + m\n",
    "\n",
    "\n",
    "\n",
    "def white_noise(tmax,h,m = 0, d = 1):\n",
    "    tmin = 0\n",
    "    return make_N(m, d, int((tmax - tmin)/h))\n",
    "def F(w):\n",
    "    return (2*w*w + 3)\n",
    "\n",
    "def H(w):\n",
    "    return ((4 + m*m)*(0.25 + m*m))\n",
    "\n",
    "def Ф(p):\n",
    "    h = 0.01\n",
    "    S0 = h/(2*np.pi)\n",
    "    return (1/np.sqrt(S0))*F(p)/H(p)\n",
    "\n",
    "def f1(t,x,y1,y2,y3,y4):\n",
    "    return y2\n",
    "def f2(t,x,y1,y2,y3,y4):\n",
    "    return (y3 + np.sqrt(2*np.pi/h)*x[t])\n",
    "def f3(t,x,y1,y2,y3,y4):\n",
    "    return y4\n",
    "def f4(t,x,y1,y2,y3,y4):\n",
    "    return -y1-(17/4)*y3+(9/4)*np.sqrt(2*np.pi/h)*x[t]"
   ]
  },
  {
   "cell_type": "code",
   "execution_count": 3,
   "metadata": {},
   "outputs": [
    {
     "data": {
      "text/plain": [
       "[<matplotlib.lines.Line2D at 0x7f736e80b978>]"
      ]
     },
     "execution_count": 3,
     "metadata": {},
     "output_type": "execute_result"
    },
    {
     "data": {
      "image/png": "[encoded data removed]",
      "text/plain": [
       "<Figure size 864x432 with 1 Axes>"
      ]
     },
     "metadata": {
      "needs_background": "light"
     },
     "output_type": "display_data"
    }
   ],
   "source": [
    "h = 0.005\n",
    "S0 = h/(2*np.pi)\n",
    "\n",
    "tmax = 10\n",
    "tmin = 0\n",
    "h = 0.05\n",
    "yij = np.zeros((4,int(10/0.05)))\n",
    "\n",
    "\n",
    "tmax = 10\n",
    "tmin = 0\n",
    "h = 0.05\n",
    "yij = np.zeros((4,int(10/0.05)))\n",
    "\n",
    "for i in range(0,4):\n",
    "    yij[i][0] = 0\n",
    "\n",
    "for j in range(1,int(tmax/h)):\n",
    "    x_ = white_noise(tmax,h,m = 0, d = 1)\n",
    "    yij[0][j] = yij[0][j-1] + h*f1(j,x_,yij[0][j-1],yij[1][j-1],yij[2][j-1],yij[3][j-1])\n",
    "    yij[1][j] = yij[1][j-1] + h*f2(j,x_,yij[0][j-1],yij[1][j-1],yij[2][j-1],yij[3][j-1])\n",
    "    yij[2][j] = yij[2][j-1] + h*f3(j,x_,yij[0][j-1],yij[1][j-1],yij[2][j-1],yij[3][j-1])\n",
    "    yij[2][j] = yij[3][j-1] + h*f4(j,x_,yij[0][j-1],yij[1][j-1],yij[2][j-1],yij[3][j-1])\n",
    "\n",
    "\n",
    "t = np.linspace(tmin, tmax, int(tmax/h))\n",
    "plt.figure(figsize=(12,6))\n",
    "plt.plot(t, yij[0])\n",
    "# plt.plot(t, yij[1])\n",
    "# plt.plot(t, yij[2])"
   ]
  },
  {
   "cell_type": "code",
   "execution_count": null,
   "metadata": {},
   "outputs": [],
   "source": []
  },
  {
   "cell_type": "code",
   "execution_count": null,
   "metadata": {},
   "outputs": [],
   "source": []
  }
 ],
 "metadata": {
  "kernelspec": {
   "display_name": "Python 3",
   "language": "python",
   "name": "python3"
  },
  "language_info": {
   "codemirror_mode": {
    "name": "ipython",
    "version": 3
   },
   "file_extension": ".py",
   "mimetype": "text/x-python",
   "name": "python",
   "nbconvert_exporter": "python",
   "pygments_lexer": "ipython3",
   "version": "3.7.3"
  }
 },
 "nbformat": 4,
 "nbformat_minor": 2
}
