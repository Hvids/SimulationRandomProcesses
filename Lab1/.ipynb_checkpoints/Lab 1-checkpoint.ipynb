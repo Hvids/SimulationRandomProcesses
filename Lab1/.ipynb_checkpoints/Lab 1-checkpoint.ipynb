{
 "cells": [
  {
   "cell_type": "markdown",
   "metadata": {},
   "source": [
    "## Ivanov D. V.\n",
    "## Variant 5\n"
   ]
  },
  {
   "cell_type": "code",
   "execution_count": 1,
   "metadata": {},
   "outputs": [],
   "source": [
    "import numpy as np\n",
    "import random\n",
    "import math as math\n",
    "import time\n",
    "import matplotlib.pyplot as plt\n",
    "from scipy.optimize import fmin\n",
    "from tqdm import tqdm"
   ]
  },
  {
   "cell_type": "code",
   "execution_count": 2,
   "metadata": {},
   "outputs": [],
   "source": [
    "def Uni_01(K):\n",
    "    time0 = np.mod(time.time(),2048)\n",
    "    a1 = 2048\n",
    "    a2 = 150000\n",
    "    a3 = 750000\n",
    "    M = np.zeros((K))\n",
    "    N = np.zeros((K))\n",
    "    M[0] = time0\n",
    "    N[0] = M[0]/(a3)\n",
    "    for i in range(1, K):\n",
    "        M[i] = np.mod(a1 * M[i-1] + a2, a3)\n",
    "        N[i] = M[i]/(a3)\n",
    "    return N\n",
    "    "
   ]
  },
  {
   "cell_type": "code",
   "execution_count": 3,
   "metadata": {},
   "outputs": [],
   "source": [
    "def Uni_ab(a, b, K):\n",
    "    return (b-a) * Uni_01(K) + a"
   ]
  },
  {
   "cell_type": "code",
   "execution_count": 4,
   "metadata": {},
   "outputs": [],
   "source": [
    "def Exp(a, lyambda, K):\n",
    "    return ((-np.log(Uni_01(K)))/(lyambda)) + a"
   ]
  },
  {
   "cell_type": "code",
   "execution_count": 5,
   "metadata": {},
   "outputs": [],
   "source": [
    "def Gauss(K):\n",
    "    b2 = []\n",
    "    b1 = Uni_ab(0,1, K)\n",
    "    #time.sleep(5)\n",
    "    b2 = Uni_ab(0,714, K)\n",
    "    for i in range(0, K):\n",
    "        b2[i] = (b2[i] + 1)/(714)\n",
    "    M1 = np.zeros((K))\n",
    "    for i in range(0, K):\n",
    "        M1 = np.sin(2*np.pi*b1)*np.sqrt(2)#*np.log(b2))\n",
    "    return M1"
   ]
  },
  {
   "cell_type": "code",
   "execution_count": 6,
   "metadata": {},
   "outputs": [],
   "source": [
    "def Koshi(x_0, a, K):\n",
    "    return x_0 + a * np.tan(Uni_01(K) - 1/2)"
   ]
  },
  {
   "cell_type": "code",
   "execution_count": 7,
   "metadata": {},
   "outputs": [],
   "source": [
    "def make_experiment(theta_real, make_distibution, title_desc, title_res,count_relize=50, count_y=100, K=100):\n",
    "    def mnk(theta_realize):\n",
    "        return np.mean([(theta_real -  (theta_realize[0] + make_distibution(K)))**2 for _ in range(count_y)])\n",
    "  \n",
    "    theta_realize_list = []\n",
    "  \n",
    "    for _ in tqdm(range(count_realize), desc=f\"{title_desc}\"):\n",
    "        theta_relize = [3]\n",
    "        theta_relize = fmin(mnk,theta_relize, disp = False)[0]\n",
    "        theta_realize_list.append(theta_relize)\n",
    "  \n",
    "    print(f\"\"\"\n",
    "Errors {title_res}\n",
    "MNK Theta mean = {np.mean(theta_realize_list)}\n",
    "MNK theta median = {np.median(theta_realize_list)}\n",
    "\"\"\")\n",
    "\n",
    "  "
   ]
  },
  {
   "cell_type": "code",
   "execution_count": 8,
   "metadata": {},
   "outputs": [],
   "source": [
    "theta = 6\n",
    "m = 100\n",
    "count_realize = 50\n",
    "K = 100"
   ]
  },
  {
   "cell_type": "markdown",
   "metadata": {},
   "source": [
    "## 1) N(0, 1)"
   ]
  },
  {
   "cell_type": "code",
   "execution_count": 9,
   "metadata": {},
   "outputs": [
    {
     "name": "stderr",
     "output_type": "stream",
     "text": [
      "Gauss: 100%|██████████| 50/50 [34:09<00:00, 41.00s/it]"
     ]
    },
    {
     "name": "stdout",
     "output_type": "stream",
     "text": [
      "\n",
      "Errors N(0, 1)\n",
      "MNK Theta mean = 5.990353861179231\n",
      "MNK theta median = 5.9870351314544745\n",
      "\n"
     ]
    },
    {
     "name": "stderr",
     "output_type": "stream",
     "text": [
      "\n"
     ]
    }
   ],
   "source": [
    "make_experiment(\n",
    "    theta, \n",
    "    Gauss, \n",
    "    'Gauss', \n",
    "    'N(0, 1)',\n",
    "    count_relize=count_realize, \n",
    "    count_y = m,\n",
    "    K = K\n",
    "    )"
   ]
  },
  {
   "cell_type": "markdown",
   "metadata": {},
   "source": [
    "## 3) E(1, -1)"
   ]
  },
  {
   "cell_type": "code",
   "execution_count": 10,
   "metadata": {},
   "outputs": [
    {
     "name": "stderr",
     "output_type": "stream",
     "text": [
      "Exponential:   0%|          | 0/50 [00:00<?, ?it/s]/home/hvidsmen/anaconda3/lib/python3.7/site-packages/ipykernel_launcher.py:2: RuntimeWarning: divide by zero encountered in log\n",
      "  \n",
      "Exponential: 100%|██████████| 50/50 [09:59<00:00, 11.98s/it]"
     ]
    },
    {
     "name": "stdout",
     "output_type": "stream",
     "text": [
      "\n",
      "Errors E(1, -1)\n",
      "MNK Theta mean = 6.013273596484179\n",
      "MNK theta median = 6.022266411362223\n",
      "\n"
     ]
    },
    {
     "name": "stderr",
     "output_type": "stream",
     "text": [
      "\n"
     ]
    }
   ],
   "source": [
    "a = 1\n",
    "lyambda = -1 \n",
    "make_experiment(\n",
    "    theta, \n",
    "    lambda K: Exp(a,lyambda, K), \n",
    "    'Exponential', \n",
    "    'E(1, -1)',\n",
    "    count_relize=count_realize, \n",
    "    count_y = m,\n",
    "    K = K\n",
    "    )"
   ]
  },
  {
   "cell_type": "markdown",
   "metadata": {},
   "source": [
    "## 7) K(3)"
   ]
  },
  {
   "cell_type": "code",
   "execution_count": 11,
   "metadata": {
    "scrolled": true
   },
   "outputs": [
    {
     "name": "stderr",
     "output_type": "stream",
     "text": [
      "Koshi: 100%|██████████| 50/50 [09:48<00:00, 11.77s/it]"
     ]
    },
    {
     "name": "stdout",
     "output_type": "stream",
     "text": [
      "\n",
      "Errors K(3)\n",
      "MNK Theta mean = 6.014760265218989\n",
      "MNK theta median = 6.00934295654284\n",
      "\n"
     ]
    },
    {
     "name": "stderr",
     "output_type": "stream",
     "text": [
      "\n"
     ]
    }
   ],
   "source": [
    "x_0 = 0\n",
    "a = 3 \n",
    "make_experiment(\n",
    "    theta, \n",
    "    lambda K: Koshi(x_0, a, K), \n",
    "    'Koshi',\n",
    "    'K(3)' ,\n",
    "    count_relize=count_realize, \n",
    "    count_y = m,\n",
    "    K = K\n",
    "    )"
   ]
  },
  {
   "cell_type": "markdown",
   "metadata": {},
   "source": [
    "## Analisis\n",
    "Quality mnk(order desc)\n",
    "\n",
    "1) N(0, 1)\n",
    "\n",
    "2) E(1, -1)\n",
    "\n",
    "3) K(3)"
   ]
  }
 ],
 "metadata": {
  "kernelspec": {
   "display_name": "Python 3",
   "language": "python",
   "name": "python3"
  },
  "language_info": {
   "codemirror_mode": {
    "name": "ipython",
    "version": 3
   },
   "file_extension": ".py",
   "mimetype": "text/x-python",
   "name": "python",
   "nbconvert_exporter": "python",
   "pygments_lexer": "ipython3",
   "version": "3.7.3"
  }
 },
 "nbformat": 4,
 "nbformat_minor": 2
}
